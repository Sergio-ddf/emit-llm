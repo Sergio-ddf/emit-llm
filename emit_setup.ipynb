{
 "cells": [
  {
   "cell_type": "markdown",
   "id": "6a650532",
   "metadata": {},
   "source": [
    "# EMit Emotion Detection – Fine‑tuning setup"
   ]
  },
  {
   "cell_type": "code",
   "execution_count": null,
   "id": "86c05358",
   "metadata": {},
   "outputs": [],
   "source": [
    "\n",
    "import sys, os, platform\n",
    "import pandas as pd\n",
    "import numpy as np\n",
    "import torch\n",
    "import transformers\n",
    "import datasets\n",
    "import emoji\n",
    "from iterstrat.ml_stratifiers import MultilabelStratifiedShuffleSplit\n",
    "\n",
    "print(f'Python: {platform.python_version()}')\n",
    "print(f'PyTorch: {torch.__version__} (CUDA: {torch.cuda.is_available()})')\n",
    "print(f'Transformers: {transformers.__version__}')\n",
    "print(f'Datasets: {datasets.__version__}')\n"
   ]
  },
  {
   "cell_type": "markdown",
   "id": "8c143f8c",
   "metadata": {},
   "source": [
    "## Caricamento dei file .csv"
   ]
  },
  {
   "cell_type": "code",
   "execution_count": null,
   "id": "b3803e25",
   "metadata": {},
   "outputs": [],
   "source": [
    "\n",
    "DATA_DIR = 'data'  # modifica se i file .csv sono altrove\n",
    "\n",
    "train_a = pd.read_csv(f'{DATA_DIR}/emit_train_A.csv')\n",
    "train_b = pd.read_csv(f'{DATA_DIR}/emit_train_B.csv')\n",
    "test_in = pd.read_csv(f'{DATA_DIR}/emit_test.csv')\n",
    "\n",
    "display(train_a.head())\n"
   ]
  },
  {
   "cell_type": "markdown",
   "id": "84ed3613",
   "metadata": {},
   "source": [
    "## Statistiche per etichetta"
   ]
  },
  {
   "cell_type": "code",
   "execution_count": null,
   "id": "009a1c52",
   "metadata": {},
   "outputs": [],
   "source": [
    "\n",
    "labels = ['Anger','Anticipation','Disgust','Fear','Joy','Love','Neutral','Sadness','Surprise','Trust']\n",
    "stats = train_a[labels].sum().sort_values(ascending=False)\n",
    "stats.plot(kind='bar', title=\"Distribuzione etichette\")\n",
    "print(stats)\n"
   ]
  },
  {
   "cell_type": "markdown",
   "id": "8964fcb5",
   "metadata": {},
   "source": [
    "## Pre-processing: pulizia testi, token speciali, emoji"
   ]
  },
  {
   "cell_type": "code",
   "execution_count": null,
   "id": "86548409",
   "metadata": {},
   "outputs": [],
   "source": [
    "\n",
    "import re\n",
    "\n",
    "URL_TOKEN = '<URL>'\n",
    "USER_TOKEN = '<USER>'\n",
    "HASHTAG_TOKEN = '<HASHTAG>'\n",
    "\n",
    "def clean(text):\n",
    "    text = re.sub(r'https?://\\S+', URL_TOKEN, text)\n",
    "    text = re.sub(r'@\\w+', USER_TOKEN, text)\n",
    "    text = re.sub(r'#(\\w+)', HASHTAG_TOKEN + r' \\1', text)\n",
    "    text = emoji.demojize(text, language='it')\n",
    "    return text\n",
    "\n",
    "train_a['text_clean'] = train_a['text'].apply(clean)\n",
    "train_a[['text', 'text_clean']].head()\n"
   ]
  },
  {
   "cell_type": "markdown",
   "id": "20e3c701",
   "metadata": {},
   "source": [
    "## Split 90/10 stratificato (MultilabelStratifiedShuffleSplit)"
   ]
  },
  {
   "cell_type": "code",
   "execution_count": null,
   "id": "558688dc",
   "metadata": {},
   "outputs": [],
   "source": [
    "\n",
    "X = train_a['text_clean'].values\n",
    "Y = train_a[labels].values\n",
    "\n",
    "msss = MultilabelStratifiedShuffleSplit(n_splits=1, test_size=0.10, random_state=42)\n",
    "train_idx, val_idx = next(msss.split(X, Y))\n",
    "\n",
    "train_df = train_a.iloc[train_idx].reset_index(drop=True)\n",
    "val_df = train_a.iloc[val_idx].reset_index(drop=True)\n",
    "\n",
    "print(f\"Train size: {train_df.shape[0]}, Validation size: {val_df.shape[0]}\")\n"
   ]
  }
 ],
 "metadata": {},
 "nbformat": 4,
 "nbformat_minor": 5
}
